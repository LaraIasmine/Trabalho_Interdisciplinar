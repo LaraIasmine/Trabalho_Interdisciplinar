{
  "nbformat": 4,
  "nbformat_minor": 0,
  "metadata": {
    "colab": {
      "name": "Inter LP + Prob.ipynb",
      "provenance": [],
      "collapsed_sections": []
    },
    "kernelspec": {
      "name": "python3",
      "display_name": "Python 3"
    },
    "language_info": {
      "name": "python"
    }
  },
  "cells": [
    {
      "cell_type": "markdown",
      "metadata": {
        "id": "BtkApBcKLV6a"
      },
      "source": [
        "### TRABALHO INTERDISCIPLINAR PO + LP + IHC\n"
      ]
    },
    {
      "cell_type": "markdown",
      "metadata": {
        "id": "xrbcDkraXx_9"
      },
      "source": [
        "# Import de Bibliotecas"
      ]
    },
    {
      "cell_type": "code",
      "metadata": {
        "id": "Wn03waLCWmvL"
      },
      "source": [
        "import pandas as pd\n",
        "import numpy as np\n",
        "import matplotlib.pyplot as plt\n",
        "from sklearn import linear_model"
      ],
      "execution_count": null,
      "outputs": []
    },
    {
      "cell_type": "markdown",
      "metadata": {
        "id": "DCFx3ElTX5Xs"
      },
      "source": [
        "# Import do arquivo\n",
        "\n",
        "Nota: foi necessário fazer mudanças no arquivo diretamente no excel. Os valores estavam no padrão brasileiro com os decimais separados por virgula. **Nenhum valor foi alterado**. O arquivo está em anexo no .rar do trabalho"
      ]
    },
    {
      "cell_type": "code",
      "metadata": {
        "colab": {
          "base_uri": "https://localhost:8080/",
          "height": 422
        },
        "id": "cia5jSlCXtQQ",
        "outputId": "d2778615-cdc0-48d7-c097-ad07ad33a395"
      },
      "source": [
        "df = pd.read_csv('/content/Transferência de Impostos a Municípios.xls.csv', sep = \";\")\n",
        "\n",
        "df"
      ],
      "execution_count": null,
      "outputs": [
        {
          "output_type": "execute_result",
          "data": {
            "text/html": [
              "<div>\n",
              "<style scoped>\n",
              "    .dataframe tbody tr th:only-of-type {\n",
              "        vertical-align: middle;\n",
              "    }\n",
              "\n",
              "    .dataframe tbody tr th {\n",
              "        vertical-align: top;\n",
              "    }\n",
              "\n",
              "    .dataframe thead th {\n",
              "        text-align: right;\n",
              "    }\n",
              "</style>\n",
              "<table border=\"1\" class=\"dataframe\">\n",
              "  <thead>\n",
              "    <tr style=\"text-align: right;\">\n",
              "      <th></th>\n",
              "      <th>Nome do Município</th>\n",
              "      <th>Valor ICMS</th>\n",
              "      <th>Valor IPI</th>\n",
              "      <th>Valor IPVA</th>\n",
              "      <th>Valor Total</th>\n",
              "    </tr>\n",
              "  </thead>\n",
              "  <tbody>\n",
              "    <tr>\n",
              "      <th>0</th>\n",
              "      <td>ABADIA DOS DOURADOS</td>\n",
              "      <td>1452690.53</td>\n",
              "      <td>17663.11</td>\n",
              "      <td>610136.37</td>\n",
              "      <td>2080490.01</td>\n",
              "    </tr>\n",
              "    <tr>\n",
              "      <th>1</th>\n",
              "      <td>ABAETE</td>\n",
              "      <td>2894859.82</td>\n",
              "      <td>35305.34</td>\n",
              "      <td>2241314.30</td>\n",
              "      <td>5171479.46</td>\n",
              "    </tr>\n",
              "    <tr>\n",
              "      <th>2</th>\n",
              "      <td>ABRE CAMPO</td>\n",
              "      <td>1192123.98</td>\n",
              "      <td>14527.50</td>\n",
              "      <td>1271073.90</td>\n",
              "      <td>2477725.38</td>\n",
              "    </tr>\n",
              "    <tr>\n",
              "      <th>3</th>\n",
              "      <td>ACAIACA</td>\n",
              "      <td>689248.36</td>\n",
              "      <td>8396.40</td>\n",
              "      <td>213703.66</td>\n",
              "      <td>911348.42</td>\n",
              "    </tr>\n",
              "    <tr>\n",
              "      <th>4</th>\n",
              "      <td>ACUCENA</td>\n",
              "      <td>1038712.97</td>\n",
              "      <td>12631.57</td>\n",
              "      <td>348132.34</td>\n",
              "      <td>1399476.88</td>\n",
              "    </tr>\n",
              "    <tr>\n",
              "      <th>...</th>\n",
              "      <td>...</td>\n",
              "      <td>...</td>\n",
              "      <td>...</td>\n",
              "      <td>...</td>\n",
              "      <td>...</td>\n",
              "    </tr>\n",
              "    <tr>\n",
              "      <th>848</th>\n",
              "      <td>VIRGINOPOLIS</td>\n",
              "      <td>1195896.57</td>\n",
              "      <td>14512.36</td>\n",
              "      <td>797974.88</td>\n",
              "      <td>2008383.81</td>\n",
              "    </tr>\n",
              "    <tr>\n",
              "      <th>849</th>\n",
              "      <td>VIRGOLANDIA</td>\n",
              "      <td>665968.41</td>\n",
              "      <td>8094.63</td>\n",
              "      <td>162416.99</td>\n",
              "      <td>836480.03</td>\n",
              "    </tr>\n",
              "    <tr>\n",
              "      <th>850</th>\n",
              "      <td>VISCONDE DO RIO BRANCO</td>\n",
              "      <td>6117181.78</td>\n",
              "      <td>74091.41</td>\n",
              "      <td>4251253.65</td>\n",
              "      <td>10442526.84</td>\n",
              "    </tr>\n",
              "    <tr>\n",
              "      <th>851</th>\n",
              "      <td>VOLTA GRANDE</td>\n",
              "      <td>1355715.43</td>\n",
              "      <td>16495.04</td>\n",
              "      <td>278975.64</td>\n",
              "      <td>1651186.11</td>\n",
              "    </tr>\n",
              "    <tr>\n",
              "      <th>852</th>\n",
              "      <td>WENCESLAU BRAZ</td>\n",
              "      <td>530103.64</td>\n",
              "      <td>6509.61</td>\n",
              "      <td>126579.65</td>\n",
              "      <td>663192.90</td>\n",
              "    </tr>\n",
              "  </tbody>\n",
              "</table>\n",
              "<p>853 rows × 5 columns</p>\n",
              "</div>"
            ],
            "text/plain": [
              "          Nome do Município  Valor ICMS  Valor IPI  Valor IPVA  Valor Total\n",
              "0       ABADIA DOS DOURADOS  1452690.53   17663.11   610136.37   2080490.01\n",
              "1                    ABAETE  2894859.82   35305.34  2241314.30   5171479.46\n",
              "2                ABRE CAMPO  1192123.98   14527.50  1271073.90   2477725.38\n",
              "3                   ACAIACA   689248.36    8396.40   213703.66    911348.42\n",
              "4                   ACUCENA  1038712.97   12631.57   348132.34   1399476.88\n",
              "..                      ...         ...        ...         ...          ...\n",
              "848            VIRGINOPOLIS  1195896.57   14512.36   797974.88   2008383.81\n",
              "849             VIRGOLANDIA   665968.41    8094.63   162416.99    836480.03\n",
              "850  VISCONDE DO RIO BRANCO  6117181.78   74091.41  4251253.65  10442526.84\n",
              "851            VOLTA GRANDE  1355715.43   16495.04   278975.64   1651186.11\n",
              "852          WENCESLAU BRAZ   530103.64    6509.61   126579.65    663192.90\n",
              "\n",
              "[853 rows x 5 columns]"
            ]
          },
          "metadata": {
            "tags": []
          },
          "execution_count": 2
        }
      ]
    },
    {
      "cell_type": "markdown",
      "metadata": {
        "id": "-viwoAFLVFWL"
      },
      "source": [
        "## Correlação de Variáveis\n",
        "\n"
      ]
    },
    {
      "cell_type": "markdown",
      "metadata": {
        "id": "v6aUMcF4UjoX"
      },
      "source": [
        ""
      ]
    },
    {
      "cell_type": "code",
      "metadata": {
        "id": "cJ2-CkssR6pl"
      },
      "source": [
        "defArray = lambda df, nomeVar : np.array(df[nomeVar])\n",
        "\n",
        "preenche_array = lambda valor1 : np.array([np.ones(np.size(valor1)), valor1])\n",
        "\n",
        "calc_correl = lambda valor1, valor2 : np.dot(np.linalg.inv(np.dot(preenche_array(valor1), np.transpose(preenche_array(valor1)))), np.dot(preenche_array(valor1),np.transpose(valor2)))"
      ],
      "execution_count": null,
      "outputs": []
    },
    {
      "cell_type": "code",
      "metadata": {
        "id": "bOpoFF6JMall",
        "colab": {
          "base_uri": "https://localhost:8080/"
        },
        "outputId": "5a7e9377-0bd5-4331-dd32-7c12327918c2"
      },
      "source": [
        "res = 1\n",
        "while res != 0:   \n",
        "  nome_variavel1 = input(\"Entre com o nome da primeira variável: \")\n",
        "  nome_variavel2 = input(\"Entre com o nome da segunda variável: \")\n",
        "\n",
        "  valor1 = defArray(df, nome_variavel1)\n",
        "  valor2 = defArray(df, nome_variavel2)\n",
        "  resultado = calc_correl(valor1, valor2)\n",
        "\n",
        "  print()\n",
        "  print(\"A correlação entre as variaveis {} e {} é de {}, {}\".format(nome_variavel1, nome_variavel2, resultado[0], resultado[1]))\n",
        "  print()\n",
        "\n",
        "  res = int(input(\"Deseja realizar outra operação? (qualquer tecla para 1 - SIM | 0 - SAIR): \"))"
      ],
      "execution_count": null,
      "outputs": [
        {
          "output_type": "stream",
          "text": [
            "Entre com o nome da primeira variável: Valor IPVA\n",
            "Entre com o nome da segunda variável: Valor Total\n",
            "\n",
            "A correlação entre as variaveis Valor IPVA e Valor Total é de 2988332.5315967486, 1.5641502512050411\n",
            "\n",
            "Deseja realizar outra operação? (qualquer tecla para - SIM | 0 - SAIR): 1\n",
            "Entre com o nome da primeira variável: Valor ICMS\n",
            "Entre com o nome da segunda variável: Valor IPI\n",
            "\n",
            "A correlação entre as variaveis Valor ICMS e Valor IPI é de 13.015162586541326, 0.012176204683392146\n",
            "\n",
            "Deseja realizar outra operação? (qualquer tecla para - SIM | 0 - SAIR): 0\n"
          ],
          "name": "stdout"
        }
      ]
    },
    {
      "cell_type": "markdown",
      "metadata": {
        "id": "bTUpAcXxIbMc"
      },
      "source": [
        "## REGRESSÃO LINEAR\n"
      ]
    },
    {
      "cell_type": "code",
      "metadata": {
        "id": "ZgwO9yPXWu2g",
        "colab": {
          "base_uri": "https://localhost:8080/",
          "height": 325
        },
        "outputId": "b102a62a-628d-4f88-a1b1-17959ae78ebc"
      },
      "source": [
        "nome_variavel1 = input(\"Entre com o nome da primeira variável: \")\n",
        "nome_variavel2 = input(\"Entre com o nome da segunda variável: \")\n",
        "\n",
        "valor1 = defArray(df, nome_variavel1)\n",
        "valor2 = defArray(df, nome_variavel2)\n",
        "valorM = np.array([valor1])\n",
        "val = valorM.T\n",
        "\n",
        "regre = linear_model.LinearRegression()\n",
        "regre.fit(val, valor2)\n",
        "y_est = regre.predict(val)\n",
        "\n",
        "plt.scatter(val, valor2, color='red')\n",
        "plt.plot(val, y_est, color='blue', linewidth=2) \n",
        "plt.show()"
      ],
      "execution_count": null,
      "outputs": [
        {
          "output_type": "stream",
          "text": [
            "Entre com o nome da primeira variável: Valor IPVA\n",
            "Entre com o nome da segunda variável: Valor Total\n"
          ],
          "name": "stdout"
        },
        {
          "output_type": "display_data",
          "data": {
            "image/png": "[encoded data removed]",
            "text/plain": [
              "<Figure size 432x288 with 1 Axes>"
            ]
          },
          "metadata": {
            "tags": [],
            "needs_background": "light"
          }
        }
      ]
    }
  ]
}